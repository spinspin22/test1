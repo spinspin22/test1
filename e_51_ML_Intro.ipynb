{
  "cells": [
    {
      "cell_type": "markdown",
      "metadata": {
        "id": "view-in-github",
        "colab_type": "text"
      },
      "source": [
        "<a href=\"https://colab.research.google.com/github/spinspin22/test1/blob/main/e_51_ML_Intro.ipynb\" target=\"_parent\"><img src=\"https://colab.research.google.com/assets/colab-badge.svg\" alt=\"Open In Colab\"/></a>"
      ]
    },
    {
      "cell_type": "markdown",
      "metadata": {
        "id": "Dji53O40dPED"
      },
      "source": [
        "# 머신러닝\n",
        "\n",
        "- 수치를 예측하는 회귀, 카테고리를 예측하는 분류, 최적의 추천 등을 수행하는 소프트웨어로, 데이터를 보고 학습하여 점차 성능이 개선된다\n",
        "- 현재 인공지능을 구현하는 대표적인 방법이 머신러닝 기법이다\n",
        " - 인공지능을 구현하는 다른 방법으로 \"생각하는\" 컴퓨터를 만들거나, 언어를 문법적으로 이해하는 컴퓨터를 만드는 것, 또는 사람의 지식을 알고리즘이나 데이터로 구축하는 방법은 성공하지 못했다\n",
        " "
      ]
    },
    {
      "cell_type": "markdown",
      "metadata": {
        "id": "Gk4_9G1ldFrD"
      },
      "source": [
        "- 머신러닝 동작\n",
        "<img src=\"https://raw.githubusercontent.com/data-labs/image/main/%E1%84%89%E1%85%B3%E1%84%8F%E1%85%B3%E1%84%85%E1%85%B5%E1%86%AB%E1%84%89%E1%85%A3%E1%86%BA%202020-12-29%20%E1%84%8B%E1%85%A9%E1%84%92%E1%85%AE%2010.08.38.png?raw=1\" align='left'>"
      ]
    },
    {
      "cell_type": "markdown",
      "metadata": {
        "id": "5k7-KSVIdFrE"
      },
      "source": [
        "### 데이터 (X)\n",
        "- 훈련 (train) 데이터: 모델을 학습시키는데 사용하는 데이터\n",
        "- 검증 (validation) 데이터: 학습시킨 모델의 동작을 검증하는데 사용하는 데이터\n",
        "- 학습에 사용하는 데이터가 많을수록 예측, 추천 성능이 향상된다\n",
        " - 데이터 타입: 정형 데이터(테이블 데이터), 비정형 데이터(이미지, 텍스트, 센서 데이터 등)\n",
        "- 머신러닝 모델의 성능을 높이기 위해서는 원시(raw) 데이터로부터 적절한 학습 및 검증 데이터를 만드는 **데이터 전처리**가 반드시 필요하다\n",
        "\n",
        "### 머신러닝 모델\n",
        "- 입력 데이터(X)로부터 최적의 출력(y)을 얻는 소프트웨어\n",
        "- 최적의 출력이란 정답(label, target)을 잘 예측하는 것을 말한다\n",
        " - 최적의 출력을 얻기 위해서 모델을 구성하는 파라미터의 최적치를 찾는다(예: 선형 회귀에서 가중치 값)\n",
        "- 모델의 종류: 선형모델, 로지스틱 회귀, SVM, 결정트리, 랜덤 포레스트, kNN, 베이시언, 딥러닝 모델 (MLP, CNN, RNN 등)\n",
        "\n",
        "### 목적\n",
        "- 머신러닝의 목적은 다음 중 하나이다\n",
        " - 예측(predictive) 분석\n",
        "> 회귀 예측(regression): 수치를 예측  \n",
        "> 분류 예측(classification): 카테고리를 예측\n",
        " - 설명(descriptive)적 분석\n",
        " - 군집화(clustering)\n",
        " - 추천(recommendation)\n",
        " \n",
        "### 성능평가 (performance measure)\n",
        "- 모델이 원하는 동작을 잘 수행하는지를 평가하는 값으로, 주요 평가 척도는 다음과 같다\n",
        " - 회귀모델에서는 R-squared를 사용\n",
        " - 분류 모델에서는 정확도(accuracy), 정밀도(precision), 리콜(recall), f-1 점수, ROC-AUC 등을 사용 \n",
        " \n",
        "### 최적화기 (optimizer)\n",
        "- 학습을 통하여 모델 파라미터를 최적의 값으로 수렴시키는 알고리즘\n",
        "- 최적화 알고리즘으로는 경사하강법(GD: gradient descent)이 기본적으로 사용된다 \n",
        "\n",
        "### 손실함수 (loss function)\n",
        "- 최적화기는 손실함수를 최소화 하는 방향으로 동작한다\n",
        "- 즉, 손실함수는 최적화기의 동작이 잘 이루어지고 있는지를 모니터링하는 값이다\n",
        "- 손실함수로, 회귀 모델에서는 MSE(mean square error)를, 분류에서는 크로스 엔트로피(cross entrophy)를 주로 사용한다\n"
      ]
    },
    {
      "cell_type": "markdown",
      "metadata": {
        "id": "frUj53G19etJ"
      },
      "source": [
        "# 타이타닉 생존자 예측 \n",
        "\n",
        "<img src=\"https://raw.githubusercontent.com/data-labs/image/main/%E1%84%89%E1%85%B3%E1%84%8F%E1%85%B3%E1%84%85%E1%85%B5%E1%86%AB%E1%84%89%E1%85%A3%E1%86%BA%202021-01-07%20%E1%84%8B%E1%85%A9%E1%84%92%E1%85%AE%2010.36.15.png?raw=1\" width=400 align='left'>"
      ]
    },
    {
      "cell_type": "markdown",
      "metadata": {
        "id": "gftq5ex8dFrF"
      },
      "source": [
        "# 데이터\n",
        "- 타이타닉 탑승자 개인별 데이터를 보고 생존 여부를 예측하는 예제 데이터\n",
        "\n",
        "- Survival - 생존여부(타겟변수 y): 0 = No, 1 = Yes\n",
        "- Pclass - 티켓 등급: 1 = 1st, 2 = 2nd, 3 = 3rd\n",
        "- Sex - 성별: male, female\n",
        "- Age - 나이\n",
        "- SibSp - 동승한 형제, 배우자 수\n",
        "- Parch - 부모와 자녀의 수\n",
        "- Ticket - 티켓 번호\n",
        "- Fare - 승선 요금\n",
        "- Cabin - 캐빈(객실) 번호\n",
        "- Embarked - 승선한 항구: C = Cherbourg, Q = Queenstown, S = Southampton"
      ]
    },
    {
      "cell_type": "markdown",
      "metadata": {
        "id": "Wgjro59sdFrG"
      },
      "source": [
        "## import"
      ]
    },
    {
      "cell_type": "code",
      "execution_count": null,
      "metadata": {
        "id": "8B2q9YpA9etK"
      },
      "outputs": [],
      "source": [
        "## 환경설정\n",
        "\n",
        "import pandas as pd\n",
        "import numpy as np\n",
        "import matplotlib.pyplot as plt\n",
        "import matplotlib\n",
        "\n",
        "# 맥에서 레티나 디스플레이 사용 설정\n",
        "%config InlineBackend.figure_format = 'retina'\n",
        "\n",
        "# 그림 크기와 폰트 설정\n",
        "matplotlib.rcParams['figure.figsize'] = (6,4)\n",
        "plt.rc('font', size=13)"
      ]
    },
    {
      "cell_type": "markdown",
      "metadata": {
        "id": "DpyCzanGdFrJ"
      },
      "source": [
        "\n",
        "## 데이터 전처리 종류\n",
        "\n",
        "- 데이터 클리닝 - 결측치 처리, 틀린값 처리\n",
        "- 스케일링 - 여러 변수 값의 범위를 동등한 조건으로 맞추는 것: 표준 스케일링, min-max 스케일링\n",
        "- 이상치 처리 - 이상치 탐지 및 제거\n",
        "- 데이터 변환 - 로그 변환, 카테고리 인코딩 등"
      ]
    },
    {
      "cell_type": "code",
      "execution_count": null,
      "metadata": {
        "id": "zh44EA5ZdFrJ",
        "outputId": "361e2446-2d62-49a0-e849-4e8b7b623de4"
      },
      "outputs": [
        {
          "name": "stdout",
          "output_type": "stream",
          "text": [
            "0    0\n",
            "1    1\n",
            "2    1\n",
            "3    1\n",
            "4    0\n",
            "Name: Survived, dtype: int64\n"
          ]
        },
        {
          "data": {
            "text/html": [
              "<div>\n",
              "<style scoped>\n",
              "    .dataframe tbody tr th:only-of-type {\n",
              "        vertical-align: middle;\n",
              "    }\n",
              "\n",
              "    .dataframe tbody tr th {\n",
              "        vertical-align: top;\n",
              "    }\n",
              "\n",
              "    .dataframe thead th {\n",
              "        text-align: right;\n",
              "    }\n",
              "</style>\n",
              "<table border=\"1\" class=\"dataframe\">\n",
              "  <thead>\n",
              "    <tr style=\"text-align: right;\">\n",
              "      <th></th>\n",
              "      <th>0</th>\n",
              "      <th>1</th>\n",
              "      <th>2</th>\n",
              "      <th>3</th>\n",
              "      <th>4</th>\n",
              "    </tr>\n",
              "  </thead>\n",
              "  <tbody>\n",
              "    <tr>\n",
              "      <th>Age</th>\n",
              "      <td>-0.590495</td>\n",
              "      <td>0.643971</td>\n",
              "      <td>-0.281878</td>\n",
              "      <td>0.412509</td>\n",
              "      <td>0.412509</td>\n",
              "    </tr>\n",
              "    <tr>\n",
              "      <th>Embarked_C</th>\n",
              "      <td>0.000000</td>\n",
              "      <td>1.000000</td>\n",
              "      <td>0.000000</td>\n",
              "      <td>0.000000</td>\n",
              "      <td>0.000000</td>\n",
              "    </tr>\n",
              "    <tr>\n",
              "      <th>Embarked_Q</th>\n",
              "      <td>0.000000</td>\n",
              "      <td>0.000000</td>\n",
              "      <td>0.000000</td>\n",
              "      <td>0.000000</td>\n",
              "      <td>0.000000</td>\n",
              "    </tr>\n",
              "    <tr>\n",
              "      <th>Embarked_S</th>\n",
              "      <td>1.000000</td>\n",
              "      <td>0.000000</td>\n",
              "      <td>1.000000</td>\n",
              "      <td>1.000000</td>\n",
              "      <td>1.000000</td>\n",
              "    </tr>\n",
              "    <tr>\n",
              "      <th>Fare</th>\n",
              "      <td>-0.877591</td>\n",
              "      <td>1.366380</td>\n",
              "      <td>-0.796281</td>\n",
              "      <td>1.066796</td>\n",
              "      <td>-0.781901</td>\n",
              "    </tr>\n",
              "    <tr>\n",
              "      <th>Parch</th>\n",
              "      <td>0.000000</td>\n",
              "      <td>0.000000</td>\n",
              "      <td>0.000000</td>\n",
              "      <td>0.000000</td>\n",
              "      <td>0.000000</td>\n",
              "    </tr>\n",
              "    <tr>\n",
              "      <th>Pclass_1</th>\n",
              "      <td>0.000000</td>\n",
              "      <td>1.000000</td>\n",
              "      <td>0.000000</td>\n",
              "      <td>1.000000</td>\n",
              "      <td>0.000000</td>\n",
              "    </tr>\n",
              "    <tr>\n",
              "      <th>Pclass_2</th>\n",
              "      <td>0.000000</td>\n",
              "      <td>0.000000</td>\n",
              "      <td>0.000000</td>\n",
              "      <td>0.000000</td>\n",
              "      <td>0.000000</td>\n",
              "    </tr>\n",
              "    <tr>\n",
              "      <th>Pclass_3</th>\n",
              "      <td>1.000000</td>\n",
              "      <td>0.000000</td>\n",
              "      <td>1.000000</td>\n",
              "      <td>0.000000</td>\n",
              "      <td>1.000000</td>\n",
              "    </tr>\n",
              "    <tr>\n",
              "      <th>Sex_female</th>\n",
              "      <td>0.000000</td>\n",
              "      <td>1.000000</td>\n",
              "      <td>1.000000</td>\n",
              "      <td>1.000000</td>\n",
              "      <td>0.000000</td>\n",
              "    </tr>\n",
              "    <tr>\n",
              "      <th>Sex_male</th>\n",
              "      <td>1.000000</td>\n",
              "      <td>0.000000</td>\n",
              "      <td>0.000000</td>\n",
              "      <td>0.000000</td>\n",
              "      <td>1.000000</td>\n",
              "    </tr>\n",
              "    <tr>\n",
              "      <th>SibSp</th>\n",
              "      <td>1.000000</td>\n",
              "      <td>1.000000</td>\n",
              "      <td>0.000000</td>\n",
              "      <td>1.000000</td>\n",
              "      <td>0.000000</td>\n",
              "    </tr>\n",
              "  </tbody>\n",
              "</table>\n",
              "</div>"
            ],
            "text/plain": [
              "                   0         1         2         3         4\n",
              "Age        -0.590495  0.643971 -0.281878  0.412509  0.412509\n",
              "Embarked_C  0.000000  1.000000  0.000000  0.000000  0.000000\n",
              "Embarked_Q  0.000000  0.000000  0.000000  0.000000  0.000000\n",
              "Embarked_S  1.000000  0.000000  1.000000  1.000000  1.000000\n",
              "Fare       -0.877591  1.366380 -0.796281  1.066796 -0.781901\n",
              "Parch       0.000000  0.000000  0.000000  0.000000  0.000000\n",
              "Pclass_1    0.000000  1.000000  0.000000  1.000000  0.000000\n",
              "Pclass_2    0.000000  0.000000  0.000000  0.000000  0.000000\n",
              "Pclass_3    1.000000  0.000000  1.000000  0.000000  1.000000\n",
              "Sex_female  0.000000  1.000000  1.000000  1.000000  0.000000\n",
              "Sex_male    1.000000  0.000000  0.000000  0.000000  1.000000\n",
              "SibSp       1.000000  1.000000  0.000000  1.000000  0.000000"
            ]
          },
          "execution_count": 2,
          "metadata": {},
          "output_type": "execute_result"
        }
      ],
      "source": [
        "## 데이터 전처리 전과정 실행\n",
        "\n",
        "# 데이터 다운로드하기\n",
        "df = pd.read_csv(\"https://raw.githubusercontent.com/StillWork/data/master/titanic_train.csv\")\n",
        "\n",
        "# 나이 결측치를 평균 나이로 대체 (대체한 것을 즉시 반영했다)\n",
        "df.Age.fillna(df.Age.mean(), inplace=True)\n",
        "\n",
        "# Embarked (항구명) 결측치가 있는 두 샘플은 삭제한다\n",
        "df = df[~df[\"Embarked\"].isnull()]\n",
        "\n",
        "# 사용하지 않을 컬럼 4개를 삭제한 데이터프레임을 만들고 백업한다\n",
        "df = df[df.columns.difference(['PassengerId','Name','Ticket','Cabin'])]\n",
        "\n",
        "# 선실등급, 성별, 항구명을 원핫 인코딩한다\n",
        "df = pd.get_dummies(df, columns=['Pclass','Sex','Embarked'])\n",
        "\n",
        "# 요금(Fare)은 로그를 취한 값을 사용한다\n",
        "df[\"Fare\"] = np.log(df.Fare +1)\n",
        "\n",
        "# 연속형 변수에 표준 스케일링을 적용한다\n",
        "from sklearn.preprocessing import StandardScaler\n",
        "scaler = StandardScaler()\n",
        "df.loc[:][['Age','Fare','SibSp','Parch']] = scaler.fit_transform(df[['Age','Fare','SibSp','Parch']])\n",
        "\n",
        "# 데이터분석에 사용할 X와 y 얻기\n",
        "X = df[df.columns.difference(['Survived'])]\n",
        "y = df.Survived\n",
        "\n",
        "# X, y 확인하기\n",
        "print(y[:5])\n",
        "X[:5].T"
      ]
    },
    {
      "cell_type": "markdown",
      "metadata": {
        "id": "Ng1PcohBdFrL"
      },
      "source": [
        "# 선형 분류 예측\n",
        "- 개인별 정보를 보고 이 사람의 생존 여부를 예측하는 선형 분류 모델을 만들어 보겠다\n",
        "- 분류에 대해서는 \"머신러닝\"에서 자세히 설명한다"
      ]
    },
    {
      "cell_type": "markdown",
      "metadata": {
        "id": "ftror-5CdFrL"
      },
      "source": [
        "## 이진 분류를 위한 결정 경계 (decision boundary)\n",
        "- 하나의 변수만 사용하는 경우 선형분류 결정 경계: $x_{1} > b$  \n",
        "- 두 개의 변수를 사용하는 경우 선형분류 결정 경계: $a_{1}x_{1}+a_{2}x_{2}+b >0$  \n",
        "     > $x_{2} > -$$a_{1}\\over a_{2}$ $x_{1} - $$b\\over{a_{2}}$\n",
        "\n",
        "\n",
        "<img src=\"https://raw.githubusercontent.com/data-labs/image/main/%E1%84%89%E1%85%B3%E1%84%8F%E1%85%B3%E1%84%85%E1%85%B5%E1%86%AB%E1%84%89%E1%85%A3%E1%86%BA%202021-01-09%20%E1%84%8B%E1%85%A9%E1%84%92%E1%85%AE%205.19.06.png?raw=1\" width=550 align='left'>\n"
      ]
    },
    {
      "cell_type": "markdown",
      "metadata": {
        "id": "yyVrDJcedFrM"
      },
      "source": [
        "## 모델 훈련 및 성능 측정\n",
        "\n",
        "\n",
        "- 목적 변수\n",
        " - 분류 예측 대상 데이터로서 여기서는 생존 여부 데이터인 Survived 컬럼의 값이다"
      ]
    },
    {
      "cell_type": "code",
      "execution_count": null,
      "metadata": {
        "id": "nXJkUTP7dFrM"
      },
      "outputs": [],
      "source": [
        "X2 = X[['Sex_female']]"
      ]
    },
    {
      "cell_type": "code",
      "execution_count": null,
      "metadata": {
        "id": "SoOPmzXRdFrM"
      },
      "outputs": [],
      "source": []
    },
    {
      "cell_type": "code",
      "execution_count": null,
      "metadata": {
        "id": "3j5iEyb8dFrM",
        "outputId": "20c15066-b9a5-4f68-f6e3-485cd9353048"
      },
      "outputs": [
        {
          "data": {
            "text/plain": [
              "(666, 223)"
            ]
          },
          "execution_count": 41,
          "metadata": {},
          "output_type": "execute_result"
        }
      ],
      "source": [
        "## X와 y를 훈련 데이터와 검증 데이터로 나눈다 (디폴트 비율은 75%: 25%)\n",
        "\n",
        "from sklearn.model_selection import train_test_split\n",
        "X_train, X_test, y_train, y_test = train_test_split(X2, y)\n",
        "\n",
        "# 훈련 및 검증 데이터 갯수 확인\n",
        "len(X_train), len(X_test)"
      ]
    },
    {
      "cell_type": "markdown",
      "metadata": {
        "id": "0SbnEqpndFrN"
      },
      "source": [
        "<img src=\"https://raw.githubusercontent.com/data-labs/image/main/%E1%84%89%E1%85%B3%E1%84%8F%E1%85%B3%E1%84%85%E1%85%B5%E1%86%AB%E1%84%89%E1%85%A3%E1%86%BA%202020-12-29%20%E1%84%8B%E1%85%A9%E1%84%92%E1%85%AE%2011.45.47.png?raw=1\" width=300 align='left'>"
      ]
    },
    {
      "cell_type": "code",
      "execution_count": null,
      "metadata": {
        "id": "TK0fxawUdFrN",
        "outputId": "9a931bf8-e142-446b-99b6-63c580b62ca4"
      },
      "outputs": [
        {
          "data": {
            "text/plain": [
              "0.7892376681614349"
            ]
          },
          "execution_count": 42,
          "metadata": {},
          "output_type": "execute_result"
        }
      ],
      "source": [
        "## 선형 분류 모델로 SGDClassifier를 사용\n",
        "\n",
        "# 모델 생성\n",
        "from sklearn.linear_model import SGDClassifier\n",
        "model = SGDClassifier()\n",
        "\n",
        "# 학습 데이터를 사용하여 학습을 수행한다\n",
        "model.fit(X_train, y_train)\n",
        "\n",
        "# 검증 데이터를 사용하여 모델의 성능을 확인한다 (정확도를 알려준다)\n",
        "model.score(X_test, y_test)"
      ]
    },
    {
      "cell_type": "code",
      "execution_count": null,
      "metadata": {
        "id": "YSCwLMHddFrN",
        "outputId": "259d79fd-af51-4faa-cfa1-67aa958c8132"
      },
      "outputs": [
        {
          "data": {
            "text/html": [
              "<div>\n",
              "<style scoped>\n",
              "    .dataframe tbody tr th:only-of-type {\n",
              "        vertical-align: middle;\n",
              "    }\n",
              "\n",
              "    .dataframe tbody tr th {\n",
              "        vertical-align: top;\n",
              "    }\n",
              "\n",
              "    .dataframe thead th {\n",
              "        text-align: right;\n",
              "    }\n",
              "</style>\n",
              "<table border=\"1\" class=\"dataframe\">\n",
              "  <thead>\n",
              "    <tr style=\"text-align: right;\">\n",
              "      <th></th>\n",
              "      <th>Age</th>\n",
              "      <th>Embarked_C</th>\n",
              "      <th>Embarked_Q</th>\n",
              "      <th>Embarked_S</th>\n",
              "      <th>Fare</th>\n",
              "      <th>Parch</th>\n",
              "      <th>Pclass_1</th>\n",
              "      <th>Pclass_2</th>\n",
              "      <th>Pclass_3</th>\n",
              "      <th>Sex_female</th>\n",
              "      <th>Sex_male</th>\n",
              "      <th>SibSp</th>\n",
              "    </tr>\n",
              "  </thead>\n",
              "  <tbody>\n",
              "    <tr>\n",
              "      <th>630</th>\n",
              "      <td>3.884444</td>\n",
              "      <td>0</td>\n",
              "      <td>0</td>\n",
              "      <td>1</td>\n",
              "      <td>0.491068</td>\n",
              "      <td>0</td>\n",
              "      <td>1</td>\n",
              "      <td>0</td>\n",
              "      <td>0</td>\n",
              "      <td>0</td>\n",
              "      <td>1</td>\n",
              "      <td>0</td>\n",
              "    </tr>\n",
              "    <tr>\n",
              "      <th>833</th>\n",
              "      <td>-0.513341</td>\n",
              "      <td>0</td>\n",
              "      <td>0</td>\n",
              "      <td>1</td>\n",
              "      <td>-0.804516</td>\n",
              "      <td>0</td>\n",
              "      <td>0</td>\n",
              "      <td>0</td>\n",
              "      <td>1</td>\n",
              "      <td>0</td>\n",
              "      <td>1</td>\n",
              "      <td>0</td>\n",
              "    </tr>\n",
              "    <tr>\n",
              "      <th>504</th>\n",
              "      <td>-1.053420</td>\n",
              "      <td>0</td>\n",
              "      <td>0</td>\n",
              "      <td>1</td>\n",
              "      <td>1.563903</td>\n",
              "      <td>0</td>\n",
              "      <td>1</td>\n",
              "      <td>0</td>\n",
              "      <td>0</td>\n",
              "      <td>1</td>\n",
              "      <td>0</td>\n",
              "      <td>0</td>\n",
              "    </tr>\n",
              "    <tr>\n",
              "      <th>227</th>\n",
              "      <td>-0.706226</td>\n",
              "      <td>0</td>\n",
              "      <td>0</td>\n",
              "      <td>1</td>\n",
              "      <td>-0.877591</td>\n",
              "      <td>0</td>\n",
              "      <td>0</td>\n",
              "      <td>0</td>\n",
              "      <td>1</td>\n",
              "      <td>0</td>\n",
              "      <td>1</td>\n",
              "      <td>0</td>\n",
              "    </tr>\n",
              "    <tr>\n",
              "      <th>565</th>\n",
              "      <td>-0.436187</td>\n",
              "      <td>0</td>\n",
              "      <td>0</td>\n",
              "      <td>1</td>\n",
              "      <td>0.274848</td>\n",
              "      <td>0</td>\n",
              "      <td>0</td>\n",
              "      <td>0</td>\n",
              "      <td>1</td>\n",
              "      <td>0</td>\n",
              "      <td>1</td>\n",
              "      <td>2</td>\n",
              "    </tr>\n",
              "  </tbody>\n",
              "</table>\n",
              "</div>"
            ],
            "text/plain": [
              "          Age  Embarked_C  Embarked_Q  Embarked_S      Fare  Parch  Pclass_1  \\\n",
              "630  3.884444           0           0           1  0.491068      0         1   \n",
              "833 -0.513341           0           0           1 -0.804516      0         0   \n",
              "504 -1.053420           0           0           1  1.563903      0         1   \n",
              "227 -0.706226           0           0           1 -0.877591      0         0   \n",
              "565 -0.436187           0           0           1  0.274848      0         0   \n",
              "\n",
              "     Pclass_2  Pclass_3  Sex_female  Sex_male  SibSp  \n",
              "630         0         0           0         1      0  \n",
              "833         0         1           0         1      0  \n",
              "504         0         0           1         0      0  \n",
              "227         0         1           0         1      0  \n",
              "565         0         1           0         1      2  "
            ]
          },
          "execution_count": 18,
          "metadata": {},
          "output_type": "execute_result"
        }
      ],
      "source": [
        "X_test[:5]"
      ]
    },
    {
      "cell_type": "code",
      "execution_count": null,
      "metadata": {
        "id": "Zz_58rwKdFrO",
        "outputId": "2f86aa21-ecbd-4799-d9d2-f2f8343c714f"
      },
      "outputs": [
        {
          "data": {
            "text/plain": [
              "0.7757847533632287"
            ]
          },
          "execution_count": 32,
          "metadata": {},
          "output_type": "execute_result"
        }
      ],
      "source": [
        "y_pred = model.predict(X_test)\n",
        "(y_pred == y_test).mean()"
      ]
    },
    {
      "cell_type": "code",
      "execution_count": null,
      "metadata": {
        "id": "7uqXSOB_dFrO",
        "outputId": "062cf120-7e66-4a3a-dc20-912340554f33"
      },
      "outputs": [
        {
          "data": {
            "text/plain": [
              "array([-0.58206774, -2.53477757,  6.12080902, -2.56576884, -2.84553145])"
            ]
          },
          "execution_count": 34,
          "metadata": {},
          "output_type": "execute_result"
        }
      ],
      "source": [
        "model.decision_function(X_test)[:5]"
      ]
    },
    {
      "cell_type": "code",
      "execution_count": null,
      "metadata": {
        "id": "4OCJ4E0EdFrO",
        "outputId": "220ae7bd-e07d-4c62-d20c-c9f5772e0355"
      },
      "outputs": [
        {
          "data": {
            "text/plain": [
              "(630    1\n",
              " 833    0\n",
              " 504    1\n",
              " 227    0\n",
              " 565    0\n",
              " 332    0\n",
              " 759    1\n",
              " 802    1\n",
              " 355    0\n",
              " 86     0\n",
              " Name: Survived, dtype: int64,\n",
              " array([0, 0, 1, 0, 0, 1, 1, 1, 0, 0]))"
            ]
          },
          "execution_count": 25,
          "metadata": {},
          "output_type": "execute_result"
        }
      ],
      "source": [
        "y_test[:10], y_pred[:10]\n"
      ]
    },
    {
      "cell_type": "code",
      "execution_count": null,
      "metadata": {
        "id": "nO95AEfmdFrP",
        "outputId": "059163a7-cbc6-4fe0-f3c4-3c0f15aa2df2"
      },
      "outputs": [
        {
          "data": {
            "text/plain": [
              "(array([[-0.3538433 ,  0.58310738, -0.29155369, -0.87466107,  1.35808622,\n",
              "         -0.87466107,  0.87466107, -0.58310738, -0.87466107,  1.45776845,\n",
              "         -2.04087583, -0.87466107]]),\n",
              " array([2.16637991]))"
            ]
          },
          "execution_count": 15,
          "metadata": {},
          "output_type": "execute_result"
        }
      ],
      "source": [
        "model.coef_, model.intercept_"
      ]
    },
    {
      "cell_type": "code",
      "execution_count": null,
      "metadata": {
        "id": "9fU4W1vBdFrP",
        "outputId": "9cb1bbef-8131-47ae-a1f4-226e92f5a4fb"
      },
      "outputs": [
        {
          "data": {
            "text/html": [
              "<div>\n",
              "<style scoped>\n",
              "    .dataframe tbody tr th:only-of-type {\n",
              "        vertical-align: middle;\n",
              "    }\n",
              "\n",
              "    .dataframe tbody tr th {\n",
              "        vertical-align: top;\n",
              "    }\n",
              "\n",
              "    .dataframe thead th {\n",
              "        text-align: right;\n",
              "    }\n",
              "</style>\n",
              "<table border=\"1\" class=\"dataframe\">\n",
              "  <thead>\n",
              "    <tr style=\"text-align: right;\">\n",
              "      <th></th>\n",
              "      <th>weight</th>\n",
              "    </tr>\n",
              "  </thead>\n",
              "  <tbody>\n",
              "    <tr>\n",
              "      <th>Sex_male</th>\n",
              "      <td>-2.0409</td>\n",
              "    </tr>\n",
              "    <tr>\n",
              "      <th>Embarked_S</th>\n",
              "      <td>-0.8747</td>\n",
              "    </tr>\n",
              "    <tr>\n",
              "      <th>Parch</th>\n",
              "      <td>-0.8747</td>\n",
              "    </tr>\n",
              "    <tr>\n",
              "      <th>Pclass_3</th>\n",
              "      <td>-0.8747</td>\n",
              "    </tr>\n",
              "    <tr>\n",
              "      <th>SibSp</th>\n",
              "      <td>-0.8747</td>\n",
              "    </tr>\n",
              "    <tr>\n",
              "      <th>Pclass_2</th>\n",
              "      <td>-0.5831</td>\n",
              "    </tr>\n",
              "    <tr>\n",
              "      <th>Age</th>\n",
              "      <td>-0.3538</td>\n",
              "    </tr>\n",
              "    <tr>\n",
              "      <th>Embarked_Q</th>\n",
              "      <td>-0.2916</td>\n",
              "    </tr>\n",
              "    <tr>\n",
              "      <th>Embarked_C</th>\n",
              "      <td>0.5831</td>\n",
              "    </tr>\n",
              "    <tr>\n",
              "      <th>Pclass_1</th>\n",
              "      <td>0.8747</td>\n",
              "    </tr>\n",
              "    <tr>\n",
              "      <th>Fare</th>\n",
              "      <td>1.3581</td>\n",
              "    </tr>\n",
              "    <tr>\n",
              "      <th>Sex_female</th>\n",
              "      <td>1.4578</td>\n",
              "    </tr>\n",
              "  </tbody>\n",
              "</table>\n",
              "</div>"
            ],
            "text/plain": [
              "            weight\n",
              "Sex_male   -2.0409\n",
              "Embarked_S -0.8747\n",
              "Parch      -0.8747\n",
              "Pclass_3   -0.8747\n",
              "SibSp      -0.8747\n",
              "Pclass_2   -0.5831\n",
              "Age        -0.3538\n",
              "Embarked_Q -0.2916\n",
              "Embarked_C  0.5831\n",
              "Pclass_1    0.8747\n",
              "Fare        1.3581\n",
              "Sex_female  1.4578"
            ]
          },
          "execution_count": 16,
          "metadata": {},
          "output_type": "execute_result"
        }
      ],
      "source": [
        "## 각 특성이 얼마나 중요하게 반영되었는지를 본다\n",
        "\n",
        "W = pd.DataFrame(model.coef_[0].round(4), index=X.columns\n",
        "                , columns=['weight'])\n",
        "W.sort_values('weight')"
      ]
    },
    {
      "cell_type": "code",
      "execution_count": null,
      "metadata": {
        "id": "Ap6d78gQdFrQ",
        "outputId": "551d0e88-6e5b-4e67-b745-2bde6ffdbc01"
      },
      "outputs": [
        {
          "data": {
            "text/plain": [
              "<AxesSubplot:>"
            ]
          },
          "execution_count": 17,
          "metadata": {},
          "output_type": "execute_result"
        },
        {
          "data": {
            "image/png": "[encoded data removed]",
            "text/plain": [
              "<Figure size 432x288 with 1 Axes>"
            ]
          },
          "metadata": {
            "image/png": {
              "height": 251,
              "width": 438
            },
            "needs_background": "light"
          },
          "output_type": "display_data"
        }
      ],
      "source": [
        "## 각 특성이 얼마나 중요하게 반영되었는지를 그래프로 보기\n",
        "\n",
        "W.sort_values('weight').plot(kind='barh')"
      ]
    },
    {
      "cell_type": "markdown",
      "metadata": {
        "id": "00nY1Z1QdFrQ"
      },
      "source": [
        "- 위 결과를 보면 생존하는데 가장 많이 기여한 변수는 여성, 요금, 1등석 등이고\n",
        "- 생존하지 않는데 가장 많이 기여한 변수는 남성, 나이, 3등객실 등인 것을 알 수 있다"
      ]
    },
    {
      "cell_type": "code",
      "execution_count": null,
      "metadata": {
        "id": "LNQN8Du4dFrQ"
      },
      "outputs": [],
      "source": []
    }
  ],
  "metadata": {
    "colab": {
      "name": "g_15_결정트리_타이타닉_캐글.ipynb",
      "provenance": [],
      "toc_visible": true,
      "include_colab_link": true
    },
    "kernelspec": {
      "display_name": "Python 3",
      "language": "python",
      "name": "python3"
    },
    "language_info": {
      "codemirror_mode": {
        "name": "ipython",
        "version": 3
      },
      "file_extension": ".py",
      "mimetype": "text/x-python",
      "name": "python",
      "nbconvert_exporter": "python",
      "pygments_lexer": "ipython3",
      "version": "3.8.8"
    },
    "toc": {
      "base_numbering": 1,
      "nav_menu": {},
      "number_sections": false,
      "sideBar": true,
      "skip_h1_title": false,
      "title_cell": "Table of Contents",
      "title_sidebar": "Contents",
      "toc_cell": false,
      "toc_position": {
        "height": "calc(100% - 180px)",
        "left": "10px",
        "top": "150px",
        "width": "202.675px"
      },
      "toc_section_display": true,
      "toc_window_display": false
    }
  },
  "nbformat": 4,
  "nbformat_minor": 0
}