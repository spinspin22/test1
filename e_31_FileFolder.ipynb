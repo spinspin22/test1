{
  "cells": [
    {
      "cell_type": "markdown",
      "metadata": {
        "id": "view-in-github",
        "colab_type": "text"
      },
      "source": [
        "<a href=\"https://colab.research.google.com/github/spinspin22/test1/blob/main/e_31_FileFolder.ipynb\" target=\"_parent\"><img src=\"https://colab.research.google.com/assets/colab-badge.svg\" alt=\"Open In Colab\"/></a>"
      ]
    },
    {
      "cell_type": "markdown",
      "id": "347d5735",
      "metadata": {
        "id": "347d5735"
      },
      "source": [
        "# 파일 다루기\n",
        "- 파일 열기 open(), with로 열기\n",
        "- csv, xlsx 파일 다루기\n",
        "- zip 파일 다루기\n",
        "- 폴더 내 파일 목록 다루기 (glob, listdir)\n",
        "- 폴더/파일 생성과 삭제"
      ]
    },
    {
      "cell_type": "markdown",
      "id": "85c21065",
      "metadata": {
        "id": "85c21065"
      },
      "source": [
        "## import"
      ]
    },
    {
      "cell_type": "code",
      "execution_count": null,
      "id": "9d63ff86",
      "metadata": {
        "id": "9d63ff86"
      },
      "outputs": [],
      "source": [
        "import pandas as pd\n",
        "import numpy as np\n",
        "from numpy.random import rand\n",
        "import csv\n",
        "import os\n",
        "from glob import glob"
      ]
    },
    {
      "cell_type": "markdown",
      "id": "a4a76086",
      "metadata": {
        "id": "a4a76086"
      },
      "source": [
        "##  데이터  생성과 저장하기\n",
        "- 숫자 데이터를 생성하고 csv 파일로 저장하기"
      ]
    },
    {
      "cell_type": "code",
      "execution_count": null,
      "id": "ebdcfb7d",
      "metadata": {
        "scrolled": true,
        "id": "ebdcfb7d",
        "outputId": "41b914d1-4d00-40b2-c40a-0f1f91bbe426"
      },
      "outputs": [
        {
          "name": "stdout",
          "output_type": "stream",
          "text": [
            "<class 'numpy.ndarray'>\n",
            "<class 'str'>\n",
            "0.272\n",
            "0.490\n",
            "0.581\n",
            "0.684\n",
            "0.856\n",
            "0.404\n",
            "0.305\n",
            "0.650\n",
            "0.970\n",
            "0.161\n",
            "\n"
          ]
        }
      ],
      "source": [
        "## 0~1 사이의 랜덤 넘버 10개를 만들고 csv 파일에 저장하고 확인하기\n",
        "\n",
        "import numpy as np\n",
        "x1 = np.random.rand(10)\n",
        "print(type(x1))         # ndarray 타입\n",
        "\n",
        "np.savetxt(\"test_1.csv\", x1, delimiter=\",\", fmt = '%.3f')\n",
        "\n",
        "with open('test_1.csv') as f: \n",
        "    contents = f.read()\n",
        "    print(type(contents))  # str 타입\n",
        "    print(contents)"
      ]
    },
    {
      "cell_type": "markdown",
      "id": "b97fb30e",
      "metadata": {
        "id": "b97fb30e"
      },
      "source": [
        "- !cat, !type 등 명령어로 직접 보기"
      ]
    },
    {
      "cell_type": "code",
      "execution_count": null,
      "id": "2e5f8a10",
      "metadata": {
        "id": "2e5f8a10",
        "outputId": "32bc1d38-c7f3-489d-c25d-7c71eea5209a"
      },
      "outputs": [
        {
          "name": "stdout",
          "output_type": "stream",
          "text": [
            "0.272\r\n",
            "0.490\r\n",
            "0.581\r\n",
            "0.684\r\n",
            "0.856\r\n",
            "0.404\r\n",
            "0.305\r\n",
            "0.650\r\n",
            "0.970\r\n",
            "0.161\r\n"
          ]
        }
      ],
      "source": [
        "!cat test_1.csv # 맥이나 리눅스에서\n",
        "#!type test_1.csv  # 윈도우에서 "
      ]
    },
    {
      "cell_type": "code",
      "execution_count": null,
      "id": "f84fa45b",
      "metadata": {
        "id": "f84fa45b",
        "outputId": "1fc72501-199b-4430-af28-68637f8daa38"
      },
      "outputs": [
        {
          "name": "stdout",
          "output_type": "stream",
          "text": [
            "<class 'numpy.ndarray'>\n",
            "[27.2 49.  58.1 68.4 85.6 40.4 30.5 65.  97.  16.1]\n"
          ]
        }
      ],
      "source": [
        "## csv 파일을 어레이로 읽어서 100을 곱한 값 보기\n",
        "\n",
        "x = np.loadtxt('test_1.csv', delimiter=',')\n",
        "print(type(x))    # ndarray 타입\n",
        "print(x*100)"
      ]
    },
    {
      "cell_type": "markdown",
      "id": "dfa5787a",
      "metadata": {
        "id": "dfa5787a"
      },
      "source": [
        "### 2차원 구조 데이터"
      ]
    },
    {
      "cell_type": "code",
      "execution_count": null,
      "id": "80eaf897",
      "metadata": {
        "id": "80eaf897",
        "outputId": "4845494c-0271-4cce-d7f0-26e67631eca2"
      },
      "outputs": [
        {
          "name": "stdout",
          "output_type": "stream",
          "text": [
            "<class 'str'>\n",
            "0,1,2,3,4,5\n",
            "6,7,8,9,10,11\n",
            "12,13,14,15,16,17\n",
            "18,19,20,21,22,23\n",
            "24,25,26,27,28,29\n",
            "\n"
          ]
        }
      ],
      "source": [
        "## 0~30 로 구성된 (5,6) 구조의 어레이를 csv 파일에 저장하기\n",
        "\n",
        "x2 = np.arange(30).reshape(5,6)\n",
        "\n",
        "np.savetxt(\"test_2.csv\", x2, delimiter=\",\", fmt = '%d')\n",
        "\n",
        "with open('test_2.csv') as f: \n",
        "    contents = f.read()\n",
        "    print(type(contents))  # str 타입\n",
        "    print(contents)"
      ]
    },
    {
      "cell_type": "code",
      "execution_count": null,
      "id": "3d6c326b",
      "metadata": {
        "id": "3d6c326b",
        "outputId": "75d925cb-db7f-44d6-eab8-6f837a8ece7d"
      },
      "outputs": [
        {
          "name": "stdout",
          "output_type": "stream",
          "text": [
            "<class 'numpy.ndarray'>\n",
            "[[ 0.  1.  2.  3.  4.  5.]\n",
            " [ 6.  7.  8.  9. 10. 11.]\n",
            " [12. 13. 14. 15. 16. 17.]\n",
            " [18. 19. 20. 21. 22. 23.]\n",
            " [24. 25. 26. 27. 28. 29.]]\n"
          ]
        }
      ],
      "source": [
        "## 2차원 csv 파일을 어레이로 읽는 예\n",
        "\n",
        "x = np.loadtxt('test_2.csv', delimiter=',')\n",
        "print(type(x))\n",
        "print(x)"
      ]
    },
    {
      "cell_type": "code",
      "execution_count": null,
      "id": "d671f7d5",
      "metadata": {
        "id": "d671f7d5",
        "outputId": "e432d3bf-0fd4-4737-f26e-1b482b38af27"
      },
      "outputs": [
        {
          "name": "stdout",
          "output_type": "stream",
          "text": [
            "---- 3개의 행만 읽는다 ----\n",
            "[[ 0.  1.  2.  3.  4.  5.]\n",
            " [ 6.  7.  8.  9. 10. 11.]\n",
            " [12. 13. 14. 15. 16. 17.]\n",
            " [18. 19. 20. 21. 22. 23.]\n",
            " [24. 25. 26. 27. 28. 29.]]\n",
            "\n",
            "---- 처음 2개의 행은 읽지 않는다 ----\n",
            "[[12. 13. 14. 15. 16. 17.]\n",
            " [18. 19. 20. 21. 22. 23.]\n",
            " [24. 25. 26. 27. 28. 29.]]\n",
            "\n",
            "---- 컬럼을 (0,2,4)만 읽는다 ----\n",
            "[[ 0.  2.  4.]\n",
            " [ 6.  8. 10.]\n",
            " [12. 14. 16.]\n",
            " [18. 20. 22.]\n",
            " [24. 26. 28.]]\n"
          ]
        }
      ],
      "source": [
        "## loadtxt()가 제공하는 읽는 옵션\n",
        "\n",
        "print('---- 3개의 행만 읽는다 ----')\n",
        "x = np.loadtxt('test_2.csv', delimiter=',', max_rows=1000)\n",
        "print(x)\n",
        "\n",
        "print('\\n---- 처음 2개의 행은 읽지 않는다 ----')\n",
        "x = np.loadtxt('test_2.csv', delimiter=',', skiprows=2)\n",
        "print(x)\n",
        "\n",
        "print('\\n---- 컬럼을 (0,2,4)만 읽는다 ----')\n",
        "x = np.loadtxt('test_2.csv', delimiter=',', usecols=(0,2,4))\n",
        "print(x)"
      ]
    },
    {
      "cell_type": "code",
      "execution_count": null,
      "id": "7a3bbb48",
      "metadata": {
        "id": "7a3bbb48",
        "outputId": "9e62099b-b684-45ff-e5ea-b351bd8e3576"
      },
      "outputs": [
        {
          "name": "stdout",
          "output_type": "stream",
          "text": [
            "0,1,2,3,4,5\r\n",
            "6,7,8,9,10,11\r\n",
            "12,13,14,15,16,17\r\n",
            "18,19,20,21,22,23\r\n",
            "24,25,26,27,28,29\r\n"
          ]
        }
      ],
      "source": [
        "!cat test_2.csv"
      ]
    },
    {
      "cell_type": "markdown",
      "id": "278aa0e5",
      "metadata": {
        "id": "278aa0e5"
      },
      "source": [
        "## 데이터프레임으로 읽기"
      ]
    },
    {
      "cell_type": "code",
      "execution_count": null,
      "id": "d56fac13",
      "metadata": {
        "id": "d56fac13",
        "outputId": "60910a2d-4021-4b67-883f-057c29330dfd"
      },
      "outputs": [
        {
          "data": {
            "text/html": [
              "<div>\n",
              "<style scoped>\n",
              "    .dataframe tbody tr th:only-of-type {\n",
              "        vertical-align: middle;\n",
              "    }\n",
              "\n",
              "    .dataframe tbody tr th {\n",
              "        vertical-align: top;\n",
              "    }\n",
              "\n",
              "    .dataframe thead th {\n",
              "        text-align: right;\n",
              "    }\n",
              "</style>\n",
              "<table border=\"1\" class=\"dataframe\">\n",
              "  <thead>\n",
              "    <tr style=\"text-align: right;\">\n",
              "      <th></th>\n",
              "      <th>0</th>\n",
              "      <th>1</th>\n",
              "      <th>2</th>\n",
              "      <th>3</th>\n",
              "      <th>4</th>\n",
              "      <th>5</th>\n",
              "    </tr>\n",
              "  </thead>\n",
              "  <tbody>\n",
              "    <tr>\n",
              "      <th>0</th>\n",
              "      <td>6</td>\n",
              "      <td>7</td>\n",
              "      <td>8</td>\n",
              "      <td>9</td>\n",
              "      <td>10</td>\n",
              "      <td>11</td>\n",
              "    </tr>\n",
              "    <tr>\n",
              "      <th>1</th>\n",
              "      <td>12</td>\n",
              "      <td>13</td>\n",
              "      <td>14</td>\n",
              "      <td>15</td>\n",
              "      <td>16</td>\n",
              "      <td>17</td>\n",
              "    </tr>\n",
              "    <tr>\n",
              "      <th>2</th>\n",
              "      <td>18</td>\n",
              "      <td>19</td>\n",
              "      <td>20</td>\n",
              "      <td>21</td>\n",
              "      <td>22</td>\n",
              "      <td>23</td>\n",
              "    </tr>\n",
              "    <tr>\n",
              "      <th>3</th>\n",
              "      <td>24</td>\n",
              "      <td>25</td>\n",
              "      <td>26</td>\n",
              "      <td>27</td>\n",
              "      <td>28</td>\n",
              "      <td>29</td>\n",
              "    </tr>\n",
              "  </tbody>\n",
              "</table>\n",
              "</div>"
            ],
            "text/plain": [
              "    0   1   2   3   4   5\n",
              "0   6   7   8   9  10  11\n",
              "1  12  13  14  15  16  17\n",
              "2  18  19  20  21  22  23\n",
              "3  24  25  26  27  28  29"
            ]
          },
          "execution_count": 15,
          "metadata": {},
          "output_type": "execute_result"
        }
      ],
      "source": [
        "## 2차원 어레이를 데이터프레임으로 읽기\n",
        "\n",
        "df = pd.read_csv('test_2.csv')  \n",
        "df"
      ]
    },
    {
      "cell_type": "code",
      "execution_count": null,
      "id": "2ff243a0",
      "metadata": {
        "id": "2ff243a0",
        "outputId": "fb27b04c-e900-45b0-bd81-57fcbc469d94"
      },
      "outputs": [
        {
          "data": {
            "text/plain": [
              "array([[ 6,  7,  8,  9, 10, 11],\n",
              "       [12, 13, 14, 15, 16, 17],\n",
              "       [18, 19, 20, 21, 22, 23],\n",
              "       [24, 25, 26, 27, 28, 29]])"
            ]
          },
          "execution_count": 16,
          "metadata": {},
          "output_type": "execute_result"
        }
      ],
      "source": [
        "# 어레이로 변환하기\n",
        "df.values"
      ]
    },
    {
      "cell_type": "markdown",
      "id": "997ff8ee",
      "metadata": {
        "id": "997ff8ee"
      },
      "source": [
        "### read_csv 옵션\n",
        "\n",
        "- nrows=1000         # 상위 1000줄만 읽기\n",
        "- skiprows = 3       # 처음 3행 건너뛰기\n",
        "- skipfooter = 1000 # 맨 뒤의 1000행은 읽지 않기\n",
        "- usecols= (0,2,4)  # 해당 컬럼만 읽기"
      ]
    },
    {
      "cell_type": "code",
      "execution_count": null,
      "id": "b631959e",
      "metadata": {
        "id": "b631959e",
        "outputId": "ff8e8b91-5691-4f7d-d764-855cf4756b01"
      },
      "outputs": [
        {
          "data": {
            "text/html": [
              "<div>\n",
              "<style scoped>\n",
              "    .dataframe tbody tr th:only-of-type {\n",
              "        vertical-align: middle;\n",
              "    }\n",
              "\n",
              "    .dataframe tbody tr th {\n",
              "        vertical-align: top;\n",
              "    }\n",
              "\n",
              "    .dataframe thead th {\n",
              "        text-align: right;\n",
              "    }\n",
              "</style>\n",
              "<table border=\"1\" class=\"dataframe\">\n",
              "  <thead>\n",
              "    <tr style=\"text-align: right;\">\n",
              "      <th></th>\n",
              "      <th>0</th>\n",
              "      <th>1</th>\n",
              "      <th>2</th>\n",
              "      <th>3</th>\n",
              "      <th>4</th>\n",
              "      <th>5</th>\n",
              "    </tr>\n",
              "  </thead>\n",
              "  <tbody>\n",
              "    <tr>\n",
              "      <th>0</th>\n",
              "      <td>0</td>\n",
              "      <td>1</td>\n",
              "      <td>2</td>\n",
              "      <td>3</td>\n",
              "      <td>4</td>\n",
              "      <td>5</td>\n",
              "    </tr>\n",
              "    <tr>\n",
              "      <th>1</th>\n",
              "      <td>6</td>\n",
              "      <td>7</td>\n",
              "      <td>8</td>\n",
              "      <td>9</td>\n",
              "      <td>10</td>\n",
              "      <td>11</td>\n",
              "    </tr>\n",
              "    <tr>\n",
              "      <th>2</th>\n",
              "      <td>12</td>\n",
              "      <td>13</td>\n",
              "      <td>14</td>\n",
              "      <td>15</td>\n",
              "      <td>16</td>\n",
              "      <td>17</td>\n",
              "    </tr>\n",
              "  </tbody>\n",
              "</table>\n",
              "</div>"
            ],
            "text/plain": [
              "    0   1   2   3   4   5\n",
              "0   0   1   2   3   4   5\n",
              "1   6   7   8   9  10  11\n",
              "2  12  13  14  15  16  17"
            ]
          },
          "execution_count": 11,
          "metadata": {},
          "output_type": "execute_result"
        }
      ],
      "source": [
        "# 일부 행만 읽기 nrows 사용 (3줄 읽기)\n",
        "\n",
        "df2 = pd.read_csv('test_2.csv', nrows=3, header=None)\n",
        "df2"
      ]
    },
    {
      "cell_type": "code",
      "execution_count": null,
      "id": "0eee13b3",
      "metadata": {
        "id": "0eee13b3",
        "outputId": "bfc84448-b9e9-47da-db38-5e72f83a5719"
      },
      "outputs": [
        {
          "data": {
            "text/html": [
              "<div>\n",
              "<style scoped>\n",
              "    .dataframe tbody tr th:only-of-type {\n",
              "        vertical-align: middle;\n",
              "    }\n",
              "\n",
              "    .dataframe tbody tr th {\n",
              "        vertical-align: top;\n",
              "    }\n",
              "\n",
              "    .dataframe thead th {\n",
              "        text-align: right;\n",
              "    }\n",
              "</style>\n",
              "<table border=\"1\" class=\"dataframe\">\n",
              "  <thead>\n",
              "    <tr style=\"text-align: right;\">\n",
              "      <th></th>\n",
              "      <th>0</th>\n",
              "      <th>1</th>\n",
              "      <th>2</th>\n",
              "      <th>3</th>\n",
              "      <th>4</th>\n",
              "      <th>5</th>\n",
              "    </tr>\n",
              "  </thead>\n",
              "  <tbody>\n",
              "    <tr>\n",
              "      <th>0</th>\n",
              "      <td>18</td>\n",
              "      <td>19</td>\n",
              "      <td>20</td>\n",
              "      <td>21</td>\n",
              "      <td>22</td>\n",
              "      <td>23</td>\n",
              "    </tr>\n",
              "    <tr>\n",
              "      <th>1</th>\n",
              "      <td>24</td>\n",
              "      <td>25</td>\n",
              "      <td>26</td>\n",
              "      <td>27</td>\n",
              "      <td>28</td>\n",
              "      <td>29</td>\n",
              "    </tr>\n",
              "  </tbody>\n",
              "</table>\n",
              "</div>"
            ],
            "text/plain": [
              "    0   1   2   3   4   5\n",
              "0  18  19  20  21  22  23\n",
              "1  24  25  26  27  28  29"
            ]
          },
          "execution_count": 12,
          "metadata": {},
          "output_type": "execute_result"
        }
      ],
      "source": [
        "df2 = pd.read_csv('test_2.csv', skiprows=3, header=None)\n",
        "df2"
      ]
    },
    {
      "cell_type": "markdown",
      "id": "2876daa7",
      "metadata": {
        "id": "2876daa7"
      },
      "source": [
        "### 액셀 한글 인코딩\n",
        "- 문자의 인코딩은 기본적으로 utf-8 을 사용한다\n",
        "- 그러나 한글의 경우 다른 인코딩으로 저장되는 경우가 있다\n",
        " - MS 액셀에서 csv로 저장할 때 한글이 cpc949로 인코딩된다. 이때는 아래 옵션이 필요하다\n",
        " - encoding = 'cpc949'\n",
        " - encoding = 'euc-kr'을 선택해야 하는 경우도 있다"
      ]
    },
    {
      "cell_type": "markdown",
      "id": "c83b64f1",
      "metadata": {
        "id": "c83b64f1"
      },
      "source": [
        "## zip 파일 \n",
        "### zip 파일 만들기\n",
        "- output.csv 을 output.zip로 압축하는 경우"
      ]
    },
    {
      "cell_type": "code",
      "execution_count": null,
      "id": "e5e1bb94",
      "metadata": {
        "id": "e5e1bb94",
        "outputId": "e2dbc4c7-747a-4231-d9e8-030a3e60e925"
      },
      "outputs": [
        {
          "name": "stdout",
          "output_type": "stream",
          "text": [
            "0,1,2,3,4,5\r\n",
            "6,7,8,9,10,11\r\n",
            "12,13,14,15,16,17\r\n",
            "18,19,20,21,22,23\r\n",
            "24,25,26,27,28,29\r\n"
          ]
        }
      ],
      "source": [
        "!cat test_2.csv"
      ]
    },
    {
      "cell_type": "code",
      "execution_count": null,
      "id": "8be295cc",
      "metadata": {
        "id": "8be295cc",
        "outputId": "9285773f-06d1-414a-ee78-60f41767cddb"
      },
      "outputs": [
        {
          "name": "stdout",
          "output_type": "stream",
          "text": [
            "0.272\r\n",
            "0.490\r\n",
            "0.581\r\n",
            "0.684\r\n",
            "0.856\r\n",
            "0.404\r\n",
            "0.305\r\n",
            "0.650\r\n",
            "0.970\r\n",
            "0.161\r\n"
          ]
        }
      ],
      "source": [
        "!cat test_1.csv"
      ]
    },
    {
      "cell_type": "code",
      "execution_count": null,
      "id": "2417f76f",
      "metadata": {
        "id": "2417f76f",
        "outputId": "f3a4e04f-4fdc-4e19-c23b-e37ea7dab741"
      },
      "outputs": [
        {
          "name": "stdout",
          "output_type": "stream",
          "text": [
            "['test_1.csv', 'test_2.csv']\n"
          ]
        }
      ],
      "source": [
        "## zip 파일로 압축하기\n",
        "\n",
        "import zipfile\n",
        "with zipfile.ZipFile('output.zip', 'w') as z:\n",
        "    z.write('test_1.csv')\n",
        "    z.write('test_2.csv')\n",
        "\n",
        "# zip에 포함된 파일명 보기와 압출 풀기\n",
        "\n",
        "with zipfile.ZipFile(\"output.zip\", 'r') as z: \n",
        "    print(z.namelist()) \n",
        "    z.extractall() "
      ]
    },
    {
      "cell_type": "markdown",
      "id": "eefb97fe",
      "metadata": {
        "id": "eefb97fe"
      },
      "source": [
        "- (참고) read_csv에서 zip 파일을 바로 읽을 수 있다 (압축을 풀 필요 없다)"
      ]
    },
    {
      "cell_type": "code",
      "execution_count": null,
      "id": "505c0b01",
      "metadata": {
        "id": "505c0b01"
      },
      "outputs": [],
      "source": [
        "# pd.read_csv('output.zip', header=None)  "
      ]
    },
    {
      "cell_type": "markdown",
      "id": "68034c94",
      "metadata": {
        "id": "68034c94"
      },
      "source": [
        "# 폴더 작업"
      ]
    },
    {
      "cell_type": "markdown",
      "id": "b00287b6",
      "metadata": {
        "id": "b00287b6"
      },
      "source": [
        "## 현재 폴더 위치 보기\n",
        "- cwd (current working directory)"
      ]
    },
    {
      "cell_type": "code",
      "execution_count": null,
      "id": "46cecf30",
      "metadata": {
        "id": "46cecf30",
        "outputId": "f51b2dba-fb1f-4e2d-c524-cff8c969d783"
      },
      "outputs": [
        {
          "name": "stdout",
          "output_type": "stream",
          "text": [
            "/Users/hwa-kim/Dropbox/lab/book12\n"
          ]
        }
      ],
      "source": [
        "## 현재 작업중인 폴더 경로 보기\n",
        "\n",
        "import os\n",
        "cwd = os.getcwd()\n",
        "print(cwd)"
      ]
    },
    {
      "cell_type": "code",
      "execution_count": null,
      "id": "327f211f",
      "metadata": {
        "id": "327f211f"
      },
      "outputs": [],
      "source": [
        "## 특정 폴더가 없으면 새로 만들기\n",
        "\n",
        "if not os.path.exists(\"./data_tmp\"):\n",
        "    os.mkdir(\"./data_tmp\")"
      ]
    },
    {
      "cell_type": "markdown",
      "id": "a8535d48",
      "metadata": {
        "id": "a8535d48"
      },
      "source": [
        "## 폴더의 파일 목록 얻기\n",
        "- glob() 사용: 파일 타입을 지정할 수 있다\n",
        "- listdir() 사용: 경로를 줄 수 있다"
      ]
    },
    {
      "cell_type": "markdown",
      "id": "d469c296",
      "metadata": {
        "id": "d469c296"
      },
      "source": [
        "### glob()를 사용"
      ]
    },
    {
      "cell_type": "code",
      "execution_count": null,
      "id": "455c954d",
      "metadata": {
        "id": "455c954d",
        "outputId": "c4aadfc6-a192-4ca8-f441-dc3f9eb8a006"
      },
      "outputs": [
        {
          "data": {
            "text/plain": [
              "['b21_Jupyter.ipynb',\n",
              " 'b22_Python.ipynb',\n",
              " 'b23_Pandas_Groupby.ipynb',\n",
              " 'b24_numpy.ipynb',\n",
              " 'b25_Function.ipynb']"
            ]
          },
          "execution_count": 25,
          "metadata": {},
          "output_type": "execute_result"
        }
      ],
      "source": [
        "## 현재 폴더의 파일 목록 얻기\n",
        "\n",
        "from glob import glob\n",
        "f_list = glob('b2*')\n",
        "sorted(f_list)"
      ]
    },
    {
      "cell_type": "code",
      "execution_count": null,
      "id": "3bd46c00",
      "metadata": {
        "id": "3bd46c00",
        "outputId": "7d73ef2f-055c-4b5b-8f6d-44dc72f41629"
      },
      "outputs": [
        {
          "name": "stdout",
          "output_type": "stream",
          "text": [
            "/Users/hwa-kim/Dropbox/lab/book12/data_tmp\n"
          ]
        },
        {
          "data": {
            "text/plain": [
              "['b22_Python.ipynb',\n",
              " 'b21_Jupyter.ipynb',\n",
              " 'b24_numpy.ipynb',\n",
              " 'b25_Function.ipynb',\n",
              " 'b23_Pandas_Groupby.ipynb']"
            ]
          },
          "execution_count": 26,
          "metadata": {},
          "output_type": "execute_result"
        }
      ],
      "source": [
        "## f_list의 파일 복사후 작업 폴더를 이동하여 복사 확인하기\n",
        "\n",
        "import shutil\n",
        "for file in f_list:\n",
        "    shutil.copy2(file, './data_tmp')\n",
        "\n",
        "os.chdir('./data_tmp')\n",
        "print(os.getcwd())\n",
        "glob('*')"
      ]
    },
    {
      "cell_type": "code",
      "execution_count": null,
      "id": "8dc8e743",
      "metadata": {
        "id": "8dc8e743",
        "outputId": "659847f7-1173-4268-8477-aeb30d7befab"
      },
      "outputs": [
        {
          "name": "stdout",
          "output_type": "stream",
          "text": [
            "/Users/hwa-kim/Dropbox/lab\n"
          ]
        }
      ],
      "source": [
        "%cd .."
      ]
    },
    {
      "cell_type": "code",
      "execution_count": null,
      "id": "90c81f66",
      "metadata": {
        "id": "90c81f66"
      },
      "outputs": [],
      "source": [
        "os.chdir('..')"
      ]
    },
    {
      "cell_type": "code",
      "execution_count": null,
      "id": "e2c7ce13",
      "metadata": {
        "id": "e2c7ce13",
        "outputId": "285c8180-ed48-4896-98b8-37b8cc84b445"
      },
      "outputs": [
        {
          "data": {
            "text/plain": [
              "'/Users/hwa-kim/Dropbox/lab'"
            ]
          },
          "execution_count": 33,
          "metadata": {},
          "output_type": "execute_result"
        }
      ],
      "source": [
        "os.getcwd()"
      ]
    },
    {
      "cell_type": "code",
      "execution_count": null,
      "id": "78be9e64",
      "metadata": {
        "id": "78be9e64",
        "outputId": "063d9e3d-1784-46c1-ec92-b328b2e93ed1"
      },
      "outputs": [
        {
          "name": "stdout",
          "output_type": "stream",
          "text": [
            "/Users/hwa-kim/Dropbox/lab/book12\n"
          ]
        }
      ],
      "source": [
        "## 처음의 폴더로 이동하고 확인하기\n",
        "\n",
        "os.chdir(cwd)\n",
        "print(os.getcwd())"
      ]
    },
    {
      "cell_type": "code",
      "execution_count": null,
      "id": "33413f58",
      "metadata": {
        "id": "33413f58",
        "outputId": "42ffa438-0730-4d78-8129-4a462ae1e16e"
      },
      "outputs": [
        {
          "name": "stdout",
          "output_type": "stream",
          "text": [
            "/Users/hwa-kim/Dropbox/lab/book12\r\n"
          ]
        }
      ],
      "source": [
        "!pwd"
      ]
    },
    {
      "cell_type": "code",
      "execution_count": null,
      "id": "3b5d0741",
      "metadata": {
        "id": "3b5d0741",
        "outputId": "8c46cc10-83c7-4102-c309-14125e041792"
      },
      "outputs": [
        {
          "name": "stdout",
          "output_type": "stream",
          "text": [
            "/Users/hwa-kim/Dropbox/lab\n"
          ]
        }
      ],
      "source": [
        "os.chdir('..')\n",
        "print(os.getcwd())"
      ]
    },
    {
      "cell_type": "code",
      "id": "85844c89",
      "metadata": {
        "id": "85844c89"
      },
      "source": [
        "## 기타 폴더 및 파일 관리 함수\n",
        "- os 패키지에서 제공하는 함수\n",
        " - 폴더 생성 mkdir()\n",
        " - 폴더 위치 이동 chdir()\n",
        " - 파일 이름 변경 rename()\n",
        " - 파일 삭제 remove()\n",
        " - 폴더 삭제 rmdir()"
      ],
      "execution_count": null,
      "outputs": []
    },
    {
      "cell_type": "code",
      "execution_count": null,
      "id": "10f8fec1",
      "metadata": {
        "id": "10f8fec1"
      },
      "outputs": [],
      "source": []
    }
  ],
  "metadata": {
    "kernelspec": {
      "display_name": "Python 3",
      "language": "python",
      "name": "python3"
    },
    "language_info": {
      "codemirror_mode": {
        "name": "ipython",
        "version": 3
      },
      "file_extension": ".py",
      "mimetype": "text/x-python",
      "name": "python",
      "nbconvert_exporter": "python",
      "pygments_lexer": "ipython3",
      "version": "3.8.8"
    },
    "toc": {
      "base_numbering": 1,
      "nav_menu": {},
      "number_sections": false,
      "sideBar": true,
      "skip_h1_title": false,
      "title_cell": "Table of Contents",
      "title_sidebar": "Contents",
      "toc_cell": false,
      "toc_position": {
        "height": "calc(100% - 180px)",
        "left": "10px",
        "top": "150px",
        "width": "165px"
      },
      "toc_section_display": true,
      "toc_window_display": false
    },
    "colab": {
      "provenance": [],
      "include_colab_link": true
    }
  },
  "nbformat": 4,
  "nbformat_minor": 5
}